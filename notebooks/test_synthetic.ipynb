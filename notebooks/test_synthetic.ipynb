{
 "cells": [
  {
   "cell_type": "code",
   "execution_count": 1,
   "outputs": [],
   "source": [
    "import sys\n",
    "%load_ext autoreload\n",
    "%autoreload 2\n",
    "sys.path.append('../')"
   ],
   "metadata": {
    "collapsed": false,
    "pycharm": {
     "name": "#%%\n"
    }
   }
  },
  {
   "cell_type": "code",
   "execution_count": 2,
   "metadata": {
    "collapsed": true
   },
   "outputs": [],
   "source": [
    "from util.utils import ConfigDict, PRNGSequence\n",
    "from util.scms import gen_scm\n",
    "from genDM.configs import train_config as config, handle_config\n",
    "from util.dataset import JaxDataset, NumpyLoader\n",
    "\n",
    "from genDM.trainer import MLETrainer, MinMaxTrainer, OptimalAdvTrainer\n",
    "from genDM.losses import y2_loss\n",
    "from genDM.models import CPM\n",
    "\n",
    "import tqdm\n",
    "import matplotlib.pyplot as plt"
   ]
  },
  {
   "cell_type": "markdown",
   "source": [
    "### Data Load"
   ],
   "metadata": {
    "collapsed": false,
    "pycharm": {
     "name": "#%% md\n"
    }
   }
  },
  {
   "cell_type": "code",
   "execution_count": 3,
   "outputs": [],
   "source": [
    "rng = PRNGSequence(config.gc.seed)\n",
    "scm = gen_scm(config.gc.dataset)\n",
    "config = handle_config(config, scm)  # Update config based on the data\n",
    "dl = NumpyLoader(JaxDataset(scm.generate(next(rng), config.gc.n_samples)), batch_size=config.gc.batch_size)"
   ],
   "metadata": {
    "collapsed": false,
    "pycharm": {
     "name": "#%%\n"
    }
   }
  },
  {
   "cell_type": "markdown",
   "source": [
    "### MLE for log p_true(t|x)"
   ],
   "metadata": {
    "collapsed": false,
    "pycharm": {
     "name": "#%% md\n"
    }
   }
  },
  {
   "cell_type": "code",
   "execution_count": 4,
   "outputs": [
    {
     "name": "stderr",
     "output_type": "stream",
     "text": [
      "100%|██████████| 100/100 [00:03<00:00, 25.90it/s, log_likelihood: -1.42091  ]\n"
     ]
    }
   ],
   "source": [
    "mle_trainer = MLETrainer(config.gc, config.mle_config, config.doc)\n",
    "mle_trainer.initialize(next(rng))\n",
    "with tqdm.tqdm(total=config.gc.MLE_epochs) as pbar:\n",
    "    for epoch in range(config.gc.MLE_epochs):\n",
    "        for batch in dl:\n",
    "            outputs = mle_trainer.train_step(next(rng), batch)\n",
    "        logging_str = ' '.join(\n",
    "            ['{}: {: <10g}'.format(k, v) for (k, v) in outputs.items()]) if outputs is not None else ''\n",
    "        pbar.set_postfix_str(logging_str)\n",
    "        pbar.update(1)"
   ],
   "metadata": {
    "collapsed": false,
    "pycharm": {
     "name": "#%%\n"
    }
   }
  },
  {
   "cell_type": "markdown",
   "source": [
    "### DRO (Optimal Adversary)"
   ],
   "metadata": {
    "collapsed": false,
    "pycharm": {
     "name": "#%% md\n"
    }
   }
  },
  {
   "cell_type": "code",
   "execution_count": 5,
   "outputs": [
    {
     "data": {
      "text/plain": "{'features': [5, 1],\n 'activation': 'relu',\n 'condition_dim': 1,\n 'decision_dim': 1,\n 'variance': 1}"
     },
     "execution_count": 5,
     "metadata": {},
     "output_type": "execute_result"
    }
   ],
   "source": [
    "config.dmc"
   ],
   "metadata": {
    "collapsed": false,
    "pycharm": {
     "name": "#%%\n"
    }
   }
  },
  {
   "cell_type": "code",
   "execution_count": 6,
   "outputs": [
    {
     "name": "stderr",
     "output_type": "stream",
     "text": [
      "  0%|          | 0/1000 [00:00<?, ?it/s]\n",
      "  0%|          | 0/1000 [00:22<?, ?it/s] 46.16it/s, lagrange_param:  nan log_pi_theta:  nan loss:  nan]\n",
      "100%|██████████| 1000/1000 [00:22<00:00, 43.83it/s, lagrange_param:  nan log_pi_theta:  nan loss:  nan]\n"
     ]
    }
   ],
   "source": [
    "target_loss = y2_loss(scm)\n",
    "opt_adv_trainer = OptimalAdvTrainer(target_loss=target_loss,\n",
    "                                   log_p_true=mle_trainer.log_p,\n",
    "                                   global_config=config.gc,\n",
    "                                   decision_model_config=config.dmc,\n",
    "                                   decision_optim_config=config.doc)\n",
    "dl = NumpyLoader(JaxDataset(scm.data), batch_size=config.gc.batch_size)  # Reload the data\n",
    "opt_adv_trainer.initialize(next(rng))\n",
    "config.gc.debug = False\n",
    "with tqdm.tqdm(total=config.gc.epochs) as pbar:\n",
    "    with tqdm.tqdm(total=config.gc.epochs) as dbar:\n",
    "        for epoch in range(config.gc.epochs):\n",
    "            for batch in dl:\n",
    "                outputs, debug = opt_adv_trainer.train_step(next(rng), batch)\n",
    "            logging_str = ' '.join(['{}: {: .4f}'.format(k, v) for (k, v) in outputs.items()])\n",
    "            pbar.set_postfix_str(logging_str)\n",
    "            pbar.update(1)\n",
    "            if config.gc.debug:\n",
    "                debug_str = ' '.join(['{}: {: .4f}'.format(k, v) for (k, v) in debug.items()])\n",
    "                dbar.set_postfix_str(debug_str)\n",
    "                dbar.update(1)"
   ],
   "metadata": {
    "collapsed": false,
    "pycharm": {
     "name": "#%%\n"
    }
   }
  },
  {
   "cell_type": "code",
   "execution_count": 13,
   "outputs": [
    {
     "data": {
      "text/plain": "<Figure size 432x288 with 1 Axes>",
      "image/png": "[encoded data removed]"
     },
     "metadata": {
      "needs_background": "light"
     },
     "output_type": "display_data"
    }
   ],
   "source": [
    "plt.plot(opt_adv_trainer.train_metrics['loss'], '.', label='loss')\n",
    "plt.plot(opt_adv_trainer.train_metrics['lagrange_param'], label='lambda')\n",
    "plt.plot(opt_adv_trainer.train_metrics['log_pi_theta'], label='log_pi_theta')\n",
    "plt.legend()\n",
    "plt.show()"
   ],
   "metadata": {
    "collapsed": false,
    "pycharm": {
     "name": "#%%\n"
    }
   }
  },
  {
   "cell_type": "code",
   "execution_count": 7,
   "outputs": [
    {
     "data": {
      "text/plain": "[<matplotlib.lines.Line2D at 0x7f92684ff850>]"
     },
     "execution_count": 7,
     "metadata": {},
     "output_type": "execute_result"
    },
    {
     "data": {
      "text/plain": "<Figure size 432x288 with 1 Axes>",
      "image/png": "[encoded data removed]"
     },
     "metadata": {
      "needs_background": "light"
     },
     "output_type": "display_data"
    }
   ],
   "source": [
    "# Plot the learned policy\n",
    "mu_x = opt_adv_trainer.decision_state.apply_fn({'params': opt_adv_trainer.decision_state.params},\n",
    "                                              scm.data[:, config.gc.batch_condition_dims],\n",
    "                                              method=CPM.mu)\n",
    "plt.plot(scm.data[:, config.gc.batch_condition_dims], mu_x, 'o')\n",
    "plt.plot(scm.data[:, config.gc.batch_condition_dims], scm.data[:, config.gc.batch_condition_dims]/3, '-')"
   ],
   "metadata": {
    "collapsed": false,
    "pycharm": {
     "name": "#%%\n"
    }
   }
  },
  {
   "cell_type": "code",
   "execution_count": null,
   "outputs": [],
   "source": [],
   "metadata": {
    "collapsed": false,
    "pycharm": {
     "name": "#%%\n"
    }
   }
  }
 ],
 "metadata": {
  "kernelspec": {
   "name": "pytorch-1.9.1-cuda11.1-python3.9",
   "language": "python",
   "display_name": "Python (3.9)"
  },
  "language_info": {
   "codemirror_mode": {
    "name": "ipython",
    "version": 2
   },
   "file_extension": ".py",
   "mimetype": "text/x-python",
   "name": "python",
   "nbconvert_exporter": "python",
   "pygments_lexer": "ipython2",
   "version": "2.7.6"
  }
 },
 "nbformat": 4,
 "nbformat_minor": 0
}